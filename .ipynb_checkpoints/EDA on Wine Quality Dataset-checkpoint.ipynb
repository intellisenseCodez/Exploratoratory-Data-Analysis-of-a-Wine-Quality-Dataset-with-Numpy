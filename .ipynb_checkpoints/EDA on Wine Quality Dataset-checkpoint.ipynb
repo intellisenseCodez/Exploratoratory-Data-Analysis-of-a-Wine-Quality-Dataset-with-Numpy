{
 "cells": [
  {
   "cell_type": "markdown",
   "id": "1a7c93a3",
   "metadata": {},
   "source": [
    "# Exploratory Data Analysis on the Wine Quality Dataset with NUMPY"
   ]
  },
  {
   "cell_type": "markdown",
   "id": "658fbfc4",
   "metadata": {},
   "source": [
    "This project is an Exploratory Data Analysis on the Wine Quality Dataset. The Dataset contains 13 columns, including Id, fixed acidity, volatile acid, alcohol, quantity etc. \n",
    "\n",
    "This project is to master our skill with the Numpy Library. We will be implementing all neccessary Numpy functions such as importing data, index and slicing data, mean, max, standard dev etc.\n",
    "\n",
    "#### Sit back, and enjoy "
   ]
  },
  {
   "cell_type": "markdown",
   "id": "e79cfce3",
   "metadata": {},
   "source": [
    "## Import Library"
   ]
  },
  {
   "cell_type": "code",
   "execution_count": 2,
   "id": "1de9364f",
   "metadata": {},
   "outputs": [],
   "source": [
    "import numpy as np"
   ]
  },
  {
   "cell_type": "markdown",
   "id": "f21d4ff6",
   "metadata": {},
   "source": [
    "## Import Dataset"
   ]
  },
  {
   "cell_type": "code",
   "execution_count": 3,
   "id": "e6a6187c",
   "metadata": {},
   "outputs": [],
   "source": [
    "# import wine dataset into numpy\n",
    "wines = np.genfromtxt('./WineQT.csv',\n",
    "              comments=\"This wine quality dataset\",\n",
    "              delimiter=\",\", \n",
    "              skip_header=1,\n",
    "              dtype=np.int32)"
   ]
  },
  {
   "cell_type": "code",
   "execution_count": 4,
   "id": "fb847fd5",
   "metadata": {},
   "outputs": [
    {
     "name": "stdout",
     "output_type": "stream",
     "text": [
      "Wine Dataset:  [[   7    0    0 ...    9    5    0]\n",
      " [   7    0    0 ...    9    5    1]\n",
      " [   7    0    0 ...    9    5    2]\n",
      " ...\n",
      " [   6    0    0 ...   10    5 1594]\n",
      " [   5    0    0 ...   11    6 1595]\n",
      " [   5    0    0 ...   10    5 1597]]\n"
     ]
    }
   ],
   "source": [
    "print(\"Wine Dataset: \", wines)"
   ]
  },
  {
   "cell_type": "markdown",
   "id": "2d564918",
   "metadata": {},
   "source": [
    "## Understand the Data"
   ]
  },
  {
   "cell_type": "code",
   "execution_count": 5,
   "id": "3bfd06f5",
   "metadata": {},
   "outputs": [
    {
     "name": "stdout",
     "output_type": "stream",
     "text": [
      "The shape of the wine dataset is:  (1143, 13)\n",
      "The dimension of the wine dataset is:  2\n"
     ]
    }
   ],
   "source": [
    "print(\"The shape of the wine dataset is: \", wines.shape)\n",
    "print(\"The dimension of the wine dataset is: \", wines.ndim)"
   ]
  },
  {
   "cell_type": "markdown",
   "id": "924b8436",
   "metadata": {},
   "source": [
    "## Return the first 10 rows of the Dataset"
   ]
  },
  {
   "cell_type": "code",
   "execution_count": 6,
   "id": "42e1da39",
   "metadata": {},
   "outputs": [
    {
     "name": "stdout",
     "output_type": "stream",
     "text": [
      "Display: \n",
      " [[ 7  0  0  1  0 11 34  0  3  0  9  5  0]\n",
      " [ 7  0  0  2  0 25 67  0  3  0  9  5  1]\n",
      " [ 7  0  0  2  0 15 54  0  3  0  9  5  2]\n",
      " [11  0  0  1  0 17 60  0  3  0  9  6  3]\n",
      " [ 7  0  0  1  0 11 34  0  3  0  9  5  4]\n",
      " [ 7  0  0  1  0 13 40  0  3  0  9  5  5]\n",
      " [ 7  0  0  1  0 15 59  0  3  0  9  5  6]\n",
      " [ 7  0  0  1  0 15 21  0  3  0 10  7  7]\n",
      " [ 7  0  0  2  0  9 18  0  3  0  9  7  8]\n",
      " [ 6  0  0  1  0 15 65  0  3  0  9  5 10]\n",
      " [ 5  0  0  1  0 16 59  0  3  0  9  5 12]]\n"
     ]
    }
   ],
   "source": [
    "# display the first 10 rows.\n",
    "\n",
    "first_ten_rows = wines[0:11]\n",
    "\n",
    "print(\"Display: \\n\", first_ten_rows)"
   ]
  },
  {
   "cell_type": "markdown",
   "id": "b70d1bb5",
   "metadata": {},
   "source": [
    "## Return the 12th coloumn of the Dataset"
   ]
  },
  {
   "cell_type": "code",
   "execution_count": 10,
   "id": "0fd7ca87",
   "metadata": {},
   "outputs": [
    {
     "name": "stdout",
     "output_type": "stream",
     "text": [
      "Display: \n",
      " [5 5 5 ... 5 6 5]\n"
     ]
    }
   ],
   "source": [
    "# display the 12th column\n",
    "\n",
    "twelth_col = wines[:, 11]\n",
    "print(\"Display: \\n\", twelth_col)"
   ]
  },
  {
   "cell_type": "markdown",
   "id": "ca331198",
   "metadata": {},
   "source": [
    "## Find the sum of all the elements  between Column 1 to 10"
   ]
  },
  {
   "cell_type": "code",
   "execution_count": 12,
   "id": "94e0e64b",
   "metadata": {},
   "outputs": [
    {
     "name": "stdout",
     "output_type": "stream",
     "text": [
      "Summation:  87680\n"
     ]
    }
   ],
   "source": [
    "one_to_ten_col = wines[:,1:11].sum()\n",
    "\n",
    "print(\"Summation: \", one_to_ten_col)"
   ]
  },
  {
   "cell_type": "markdown",
   "id": "f5af0806",
   "metadata": {},
   "source": [
    "## Find the mean of the array"
   ]
  },
  {
   "cell_type": "code",
   "execution_count": 13,
   "id": "d176b73f",
   "metadata": {},
   "outputs": [
    {
     "name": "stdout",
     "output_type": "stream",
     "text": [
      "Mean Value:  68.86163268053032\n"
     ]
    }
   ],
   "source": [
    "mean_of_wines = wines.mean()\n",
    "\n",
    "print(\"Mean Value: \", mean_of_wines)"
   ]
  },
  {
   "cell_type": "code",
   "execution_count": 14,
   "id": "3d9da027",
   "metadata": {},
   "outputs": [
    {
     "name": "stdout",
     "output_type": "stream",
     "text": [
      "Mean Value:  68.86163268053032\n"
     ]
    }
   ],
   "source": [
    "sum_of_wine = wines.sum()\n",
    "size_of_wine = wines.size\n",
    "\n",
    "print(\"Mean Value: \", sum_of_wine/size_of_wine)"
   ]
  },
  {
   "cell_type": "markdown",
   "id": "8667722a",
   "metadata": {},
   "source": [
    "## Find the standard deviation of the array"
   ]
  },
  {
   "cell_type": "code",
   "execution_count": 15,
   "id": "62511e0e",
   "metadata": {},
   "outputs": [
    {
     "name": "stdout",
     "output_type": "stream",
     "text": [
      "Standard Deviation:  248.87134655790663\n"
     ]
    }
   ],
   "source": [
    "std_dev = wines.std()\n",
    "\n",
    "print(\"Standard Deviation: \", std_dev)"
   ]
  },
  {
   "cell_type": "markdown",
   "id": "b49cb5a7",
   "metadata": {},
   "source": [
    "## Find the minimum value in the array"
   ]
  },
  {
   "cell_type": "code",
   "execution_count": 16,
   "id": "610367f8",
   "metadata": {},
   "outputs": [
    {
     "name": "stdout",
     "output_type": "stream",
     "text": [
      "Minimum Value:  0\n"
     ]
    }
   ],
   "source": [
    "min_value = wines.min()\n",
    "print(\"Minimum Value: \", min_value)"
   ]
  },
  {
   "cell_type": "markdown",
   "id": "15e39dca",
   "metadata": {},
   "source": [
    "## Find the maximum value in the array"
   ]
  },
  {
   "cell_type": "code",
   "execution_count": 17,
   "id": "6dc17220",
   "metadata": {},
   "outputs": [
    {
     "name": "stdout",
     "output_type": "stream",
     "text": [
      "Maximum Value:  1597\n"
     ]
    }
   ],
   "source": [
    "max_value = wines.max()\n",
    "print(\"Maximum Value: \", max_value)"
   ]
  },
  {
   "cell_type": "markdown",
   "id": "16703854",
   "metadata": {},
   "source": [
    "## Find where the quality rating of the wine is higher than 5"
   ]
  },
  {
   "cell_type": "code",
   "execution_count": 26,
   "id": "c9fd57af",
   "metadata": {},
   "outputs": [
    {
     "name": "stdout",
     "output_type": "stream",
     "text": [
      "Original Column:  [5 5 5 ... 5 6 5]\n",
      "Quality greater than 5:  [6 7 7 7 6 6 6 6 6 7 6 6 6 6 6 6 6 6 6 6 6 6 6 6 6 6 6 7 6 6 6 6 6 6 6 6 6\n",
      " 6 6 6 6 6 7 6 7 7 6 6 6 6 6 6 6 7 6 6 6 6 6 6 7 7 6 6 6 6 7 8 6 6 6 6 6 6\n",
      " 8 7 6 7 7 6 6 7 7 6 6 6 6 6 6 6 6 6 7 6 6 6 7 6 7 7 6 7 6 6 6 6 6 6 6 6 7\n",
      " 7 6 6 7 7 7 6 6 6 7 6 6 6 8 6 7 6 6 6 6 7 6 7 6 6 7 7 7 6 6 6 7 6 6 6 8 7\n",
      " 7 6 6 6 6 7 8 6 6 6 6 6 6 6 6 6 8 6 6 7 7 6 6 8 6 8 6 6 7 7 7 7 7 6 7 6 6\n",
      " 7 7 6 6 6 6 6 6 6 6 7 6 6 6 6 6 6 6 6 6 6 6 6 6 6 6 6 6 6 7 8 6 6 6 6 6 6\n",
      " 6 6 6 6 6 6 6 7 6 6 7 6 6 6 6 6 6 6 6 6 6 6 6 6 6 6 6 6 6 6 6 6 6 6 6 6 6\n",
      " 6 6 6 6 6 6 6 6 6 6 6 6 6 7 6 7 6 6 7 6 6 6 7 7 6 7 7 7 6 6 6 6 6 7 7 7 6\n",
      " 6 6 6 6 6 6 6 6 7 6 7 7 7 7 6 6 6 6 6 6 6 6 6 6 7 6 7 6 6 7 7 7 7 7 7 7 7\n",
      " 7 7 6 7 6 6 6 6 7 7 6 6 6 6 6 6 6 6 7 7 7 7 7 7 6 6 6 7 6 6 6 6 7 6 6 7 6\n",
      " 7 7 7 6 6 6 6 6 6 6 7 6 7 7 7 6 8 6 6 6 6 7 7 7 6 6 7 7 6 6 7 6 7 7 8 6 6\n",
      " 7 6 6 6 6 6 6 7 6 6 7 6 6 6 6 6 6 8 6 7 6 6 7 7 7 6 6 6 6 6 6 6 6 6 7 6 6\n",
      " 6 6 7 7 7 7 6 6 6 6 6 6 6 6 6 7 6 6 6 6 6 6 7 8 7 7 7 7 6 6 6 6 6 6 6 6 7\n",
      " 6 6 6 6 6 6 6 6 6 6 6 6 6 6 6 6 6 6 7 6 6 6 6 6 6 6 6 6 6 6 6 6 6 6 6 6 6\n",
      " 6 6 6 6 6 6 6 6 6 6 6 6 6 6 6 6 6 6 6 6 6 6 6 6 6 6 8 6 6 6 7 6 6 6 6 7 6\n",
      " 6 7 6 6 6 8 7 7 7 6 6 7 6 6 7 7 6 7 7 6 7 6 6 6 6 6 6 6 6 6 6 6 6 6 6 6 6\n",
      " 6 7 6 6 7 6 8 6 7 6 6 6 6 6 6 6 6 6 6 6 6 7 6 6 6 6 6 6 6]\n",
      "Total Numbers:  621\n"
     ]
    }
   ],
   "source": [
    "quality_rating_col = wines[:,-2] # original column\n",
    "\n",
    "quality_rating_greater_than_5 = quality_rating_col > 5 # boolean array\n",
    "\n",
    "display = quality_rating_col[quality_rating_greater_than_5]\n",
    "\n",
    "print(\"Original Column: \", quality_rating_col)\n",
    "print(\"Quality greater than 5: \", display)\n",
    "\n",
    "# find the total numbers of quality rating greater than 5\n",
    "print(\"Total Numbers: \", display.size)\n"
   ]
  },
  {
   "cell_type": "markdown",
   "id": "b2ddd6d9",
   "metadata": {},
   "source": [
    "## Find where the quality rating of the wine is equal to 10"
   ]
  },
  {
   "cell_type": "code",
   "execution_count": 28,
   "id": "2a932727",
   "metadata": {},
   "outputs": [
    {
     "name": "stdout",
     "output_type": "stream",
     "text": [
      "Original Column:  [5 5 5 ... 5 6 5]\n",
      "Quality greater than 5:  []\n",
      "No wine Quality Found\n"
     ]
    }
   ],
   "source": [
    "def send_message(data):\n",
    "    if len(data) == 0:\n",
    "        print(\"No wine Quality Found\")\n",
    "    else:\n",
    "        print(f\"The total of {len(data)} quality rating is found greater than 10\")\n",
    "        \n",
    "\n",
    "quality_rating_col = wines[:,-2] # original column\n",
    "\n",
    "quality_rating_equal_10 = quality_rating_col == 10 # boolean array\n",
    "\n",
    "display = quality_rating_col[quality_rating_equal_10]\n",
    "\n",
    "print(\"Original Column: \", quality_rating_col)\n",
    "print(\"Quality greater than 5: \", display)\n",
    "\n",
    "# invoke function\n",
    "send_message(display)\n",
    "\n"
   ]
  },
  {
   "cell_type": "markdown",
   "id": "6c71315d",
   "metadata": {},
   "source": [
    "## Find where the quality rating is  greater than 5 and the alcohol rating is greater than 7"
   ]
  },
  {
   "cell_type": "code",
   "execution_count": 32,
   "id": "62f7a790",
   "metadata": {},
   "outputs": [
    {
     "data": {
      "text/plain": [
       "array([[  11,    0,    0, ...,    9,    6,    3],\n",
       "       [   7,    0,    0, ...,   10,    7,    7],\n",
       "       [   7,    0,    0, ...,    9,    7,    8],\n",
       "       ...,\n",
       "       [   6,    0,    0, ...,   11,    6, 1592],\n",
       "       [   6,    0,    0, ...,    9,    6, 1593],\n",
       "       [   5,    0,    0, ...,   11,    6, 1595]])"
      ]
     },
     "execution_count": 32,
     "metadata": {},
     "output_type": "execute_result"
    }
   ],
   "source": [
    "quality_greater_than_5_and_alcohol_greater_than_7 = (wines[:,-2] > 5) & (wines[:,-3] > 7)\n",
    "\n",
    "wines[quality_greater_than_5_and_alcohol_greater_than_7]"
   ]
  },
  {
   "cell_type": "code",
   "execution_count": null,
   "id": "12eb3644",
   "metadata": {},
   "outputs": [],
   "source": []
  }
 ],
 "metadata": {
  "kernelspec": {
   "display_name": "Python 3 (ipykernel)",
   "language": "python",
   "name": "python3"
  },
  "language_info": {
   "codemirror_mode": {
    "name": "ipython",
    "version": 3
   },
   "file_extension": ".py",
   "mimetype": "text/x-python",
   "name": "python",
   "nbconvert_exporter": "python",
   "pygments_lexer": "ipython3",
   "version": "3.9.12"
  }
 },
 "nbformat": 4,
 "nbformat_minor": 5
}
